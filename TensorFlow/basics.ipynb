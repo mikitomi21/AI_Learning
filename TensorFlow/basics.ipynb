{
 "cells": [
  {
   "cell_type": "code",
   "execution_count": 1,
   "metadata": {
    "collapsed": true,
    "ExecuteTime": {
     "end_time": "2023-09-22T15:26:03.882115300Z",
     "start_time": "2023-09-22T15:25:48.132575400Z"
    }
   },
   "outputs": [],
   "source": [
    "import tensorflow as tf"
   ]
  },
  {
   "cell_type": "code",
   "execution_count": 2,
   "outputs": [
    {
     "name": "stdout",
     "output_type": "stream",
     "text": [
      "2.13.0\n"
     ]
    }
   ],
   "source": [
    "print(tf.__version__)"
   ],
   "metadata": {
    "collapsed": false,
    "ExecuteTime": {
     "end_time": "2023-09-22T15:26:03.891640200Z",
     "start_time": "2023-09-22T15:26:03.880112800Z"
    }
   }
  },
  {
   "cell_type": "raw",
   "source": [
    "## Initialization of Tensors"
   ],
   "metadata": {
    "collapsed": false
   }
  },
  {
   "cell_type": "code",
   "execution_count": 9,
   "outputs": [
    {
     "name": "stdout",
     "output_type": "stream",
     "text": [
      "tf.Tensor(4, shape=(), dtype=int32)\n",
      "tf.Tensor([1.  2.  3.2], shape=(3,), dtype=float32)\n",
      "tf.Tensor(\n",
      "[[1 2 3]\n",
      " [4 2 5]], shape=(2, 3), dtype=int32)\n"
     ]
    }
   ],
   "source": [
    "x = tf.constant(4)\n",
    "print(x)\n",
    "x = tf.constant([1,2,3.2])\n",
    "print(x)\n",
    "x = tf.constant([[1,2,3], [4,2,5]])\n",
    "print(x)"
   ],
   "metadata": {
    "collapsed": false,
    "ExecuteTime": {
     "end_time": "2023-09-22T15:33:50.876654400Z",
     "start_time": "2023-09-22T15:33:50.864761200Z"
    }
   }
  },
  {
   "cell_type": "code",
   "execution_count": 14,
   "outputs": [
    {
     "name": "stdout",
     "output_type": "stream",
     "text": [
      "tf.Tensor([[5.]], shape=(1, 1), dtype=float32)\n",
      "tf.Tensor(\n",
      "[[1. 1.]\n",
      " [1. 1.]], shape=(2, 2), dtype=float32)\n",
      "tf.Tensor(\n",
      "[[1. 0. 0.]\n",
      " [0. 1. 0.]\n",
      " [0. 0. 1.]], shape=(3, 3), dtype=float32)\n"
     ]
    }
   ],
   "source": [
    "x = tf.constant(5, shape=(1,1), dtype=tf.float32)\n",
    "print(x)\n",
    "x = tf.ones((2,2))\n",
    "print(x)\n",
    "x = tf.eye(3) # Identity matrix (eye)\n",
    "print(x)"
   ],
   "metadata": {
    "collapsed": false,
    "ExecuteTime": {
     "end_time": "2023-09-22T15:36:16.749263400Z",
     "start_time": "2023-09-22T15:36:16.738171500Z"
    }
   }
  },
  {
   "cell_type": "code",
   "execution_count": 19,
   "outputs": [
    {
     "name": "stdout",
     "output_type": "stream",
     "text": [
      "tf.Tensor(\n",
      "[[ 0.9261874  -0.49729228 -1.368099  ]\n",
      " [ 0.10183173 -2.4018764   0.15819077]\n",
      " [-0.13775055 -0.8077075  -2.3742843 ]], shape=(3, 3), dtype=float32)\n",
      "tf.Tensor([[1.6268699 1.8825505 1.7728912]], shape=(1, 3), dtype=float32)\n",
      "tf.Tensor([0 1 2 3 4 5 6 7 8], shape=(9,), dtype=int32)\n"
     ]
    }
   ],
   "source": [
    "x = tf.random.normal((3,3), mean = 0, stddev=1)\n",
    "print(x)\n",
    "x = tf.random.uniform((1,3), minval=1.5, maxval=2.)\n",
    "print(x)\n",
    "x = tf.range(9)\n",
    "print(x)"
   ],
   "metadata": {
    "collapsed": false,
    "ExecuteTime": {
     "end_time": "2023-09-22T15:39:31.869939200Z",
     "start_time": "2023-09-22T15:39:31.845280400Z"
    }
   }
  },
  {
   "cell_type": "raw",
   "source": [
    "Convert type"
   ],
   "metadata": {
    "collapsed": false
   }
  },
  {
   "cell_type": "code",
   "execution_count": 20,
   "outputs": [
    {
     "name": "stdout",
     "output_type": "stream",
     "text": [
      "tf.Tensor([3 5], shape=(2,), dtype=int32)\n"
     ]
    }
   ],
   "source": [
    "x = tf.constant([3.2, 5.8], dtype=tf.float32)\n",
    "x = tf.cast(x, dtype=tf.int32)\n",
    "print(x)"
   ],
   "metadata": {
    "collapsed": false,
    "ExecuteTime": {
     "end_time": "2023-09-22T15:42:58.812622500Z",
     "start_time": "2023-09-22T15:42:58.804203700Z"
    }
   }
  },
  {
   "cell_type": "raw",
   "source": [
    "Mathematical operations"
   ],
   "metadata": {
    "collapsed": false
   }
  },
  {
   "cell_type": "code",
   "execution_count": 23,
   "outputs": [
    {
     "name": "stdout",
     "output_type": "stream",
     "text": [
      "tf.Tensor([ 9 11  3], shape=(3,), dtype=int32)\n",
      "tf.Tensor(26, shape=(), dtype=int32)\n",
      "tf.Tensor(26, shape=(), dtype=int32)\n"
     ]
    }
   ],
   "source": [
    "x = tf.constant([3,2,5])\n",
    "y = tf.constant([6,9,-2])\n",
    "\n",
    "# z = tf.add(x, y)\n",
    "z = x + y\n",
    "print(z)\n",
    "\n",
    "z = tf.tensordot(x, y, axes=1) # Sum the product of elements\n",
    "print(z)\n",
    "z = tf.reduce_sum(x*y, axis=0)\n",
    "print(z)\n"
   ],
   "metadata": {
    "collapsed": false,
    "ExecuteTime": {
     "end_time": "2023-09-22T15:46:38.575013900Z",
     "start_time": "2023-09-22T15:46:38.571156100Z"
    }
   }
  },
  {
   "cell_type": "code",
   "execution_count": 24,
   "outputs": [
    {
     "name": "stdout",
     "output_type": "stream",
     "text": [
      "tf.Tensor(\n",
      "[[-0.2160643  -1.0107305   0.9886828  -1.2741518 ]\n",
      " [-0.06779549 -1.535405    1.8934791  -1.3736275 ]], shape=(2, 4), dtype=float32)\n",
      "tf.Tensor(\n",
      "[[-0.2160643  -1.0107305   0.9886828  -1.2741518 ]\n",
      " [-0.06779549 -1.535405    1.8934791  -1.3736275 ]], shape=(2, 4), dtype=float32)\n"
     ]
    }
   ],
   "source": [
    "x = tf.random.normal((2,3))\n",
    "y = tf.random.normal((3,4))\n",
    "z = tf.matmul(x,y)\n",
    "print(z)\n",
    "z = x @ y\n",
    "print(z)"
   ],
   "metadata": {
    "collapsed": false,
    "ExecuteTime": {
     "end_time": "2023-09-22T15:51:36.644876300Z",
     "start_time": "2023-09-22T15:51:36.603115Z"
    }
   }
  },
  {
   "cell_type": "code",
   "execution_count": 25,
   "outputs": [
    {
     "name": "stdout",
     "output_type": "stream",
     "text": [
      "tf.Tensor([1 2], shape=(2,), dtype=int32)\n",
      "tf.Tensor([1 3 5], shape=(3,), dtype=int32)\n"
     ]
    }
   ],
   "source": [
    "x = tf.constant([[1,2],\n",
    "                 [3,4],\n",
    "                 [5,6]])\n",
    "print(x[0,:])\n",
    "print(x[:,0])"
   ],
   "metadata": {
    "collapsed": false,
    "ExecuteTime": {
     "end_time": "2023-09-22T15:53:52.321692400Z",
     "start_time": "2023-09-22T15:53:52.315831200Z"
    }
   }
  },
  {
   "cell_type": "raw",
   "source": [
    "Reshaping"
   ],
   "metadata": {
    "collapsed": false
   }
  },
  {
   "cell_type": "code",
   "execution_count": 29,
   "outputs": [
    {
     "name": "stdout",
     "output_type": "stream",
     "text": [
      "tf.Tensor([0 1 2 3 4 5 6 7 8], shape=(9,), dtype=int32)\n",
      "tf.Tensor(\n",
      "[[0 1 2]\n",
      " [3 4 5]\n",
      " [6 7 8]], shape=(3, 3), dtype=int32)\n"
     ]
    }
   ],
   "source": [
    "x = tf.range(9)\n",
    "print(x)\n",
    "\n",
    "x = tf.reshape(x, (3,3))\n",
    "print(x)"
   ],
   "metadata": {
    "collapsed": false,
    "ExecuteTime": {
     "end_time": "2023-09-22T15:56:02.771986300Z",
     "start_time": "2023-09-22T15:56:02.766960300Z"
    }
   }
  },
  {
   "cell_type": "code",
   "execution_count": 32,
   "outputs": [
    {
     "name": "stdout",
     "output_type": "stream",
     "text": [
      "tf.Tensor(\n",
      "[[0 3 6]\n",
      " [1 4 7]\n",
      " [2 5 8]], shape=(3, 3), dtype=int32)\n"
     ]
    }
   ],
   "source": [
    "x = tf.transpose(x, perm=[1,0]) # change the axis\n",
    "print(x)"
   ],
   "metadata": {
    "collapsed": false,
    "ExecuteTime": {
     "end_time": "2023-09-22T15:56:17.228023600Z",
     "start_time": "2023-09-22T15:56:17.221023200Z"
    }
   }
  },
  {
   "cell_type": "code",
   "execution_count": null,
   "outputs": [],
   "source": [],
   "metadata": {
    "collapsed": false
   }
  }
 ],
 "metadata": {
  "kernelspec": {
   "display_name": "Python 3",
   "language": "python",
   "name": "python3"
  },
  "language_info": {
   "codemirror_mode": {
    "name": "ipython",
    "version": 2
   },
   "file_extension": ".py",
   "mimetype": "text/x-python",
   "name": "python",
   "nbconvert_exporter": "python",
   "pygments_lexer": "ipython2",
   "version": "2.7.6"
  }
 },
 "nbformat": 4,
 "nbformat_minor": 0
}
