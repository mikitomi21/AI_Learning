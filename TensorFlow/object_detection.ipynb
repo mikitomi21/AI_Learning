{
 "cells": [
  {
   "cell_type": "code",
   "execution_count": 1,
   "metadata": {
    "collapsed": true,
    "ExecuteTime": {
     "end_time": "2023-09-23T09:21:22.480726500Z",
     "start_time": "2023-09-23T09:21:16.298316Z"
    }
   },
   "outputs": [],
   "source": [
    "import tensorflow as tf\n",
    "from tensorflow import keras\n",
    "from tensorflow.keras import layers\n",
    "from tensorflow.keras.datasets import cifar10"
   ]
  },
  {
   "cell_type": "code",
   "execution_count": 2,
   "outputs": [
    {
     "name": "stdout",
     "output_type": "stream",
     "text": [
      "Downloading data from https://www.cs.toronto.edu/~kriz/cifar-10-python.tar.gz\n",
      "170498071/170498071 [==============================] - 23s 0us/step\n"
     ]
    }
   ],
   "source": [
    "(x_train, y_train), (x_test, y_test) = cifar10.load_data()\n",
    "x_train = x_train.astype(\"float32\") / 255.0\n",
    "x_test = x_test.astype(\"float32\") / 255.0"
   ],
   "metadata": {
    "collapsed": false,
    "ExecuteTime": {
     "end_time": "2023-09-23T09:22:01.847222400Z",
     "start_time": "2023-09-23T09:21:35.118966700Z"
    }
   }
  },
  {
   "cell_type": "code",
   "execution_count": 12,
   "outputs": [
    {
     "name": "stdout",
     "output_type": "stream",
     "text": [
      "Model: \"sequential_4\"\n",
      "_________________________________________________________________\n",
      " Layer (type)                Output Shape              Param #   \n",
      "=================================================================\n",
      " conv1 (Conv2D)              (None, 30, 30, 32)        896       \n",
      "                                                                 \n",
      " max_pooling1 (MaxPooling2D  (None, 15, 15, 32)        0         \n",
      " )                                                               \n",
      "                                                                 \n",
      " conv2 (Conv2D)              (None, 13, 13, 64)        18496     \n",
      "                                                                 \n",
      " max_pooling2d_5 (MaxPoolin  (None, 6, 6, 64)          0         \n",
      " g2D)                                                            \n",
      "                                                                 \n",
      " conv3 (Conv2D)              (None, 4, 4, 128)         73856     \n",
      "                                                                 \n",
      " flatten_3 (Flatten)         (None, 2048)              0         \n",
      "                                                                 \n",
      " dense_6 (Dense)             (None, 64)                131136    \n",
      "                                                                 \n",
      " dense_7 (Dense)             (None, 10)                650       \n",
      "                                                                 \n",
      "=================================================================\n",
      "Total params: 225034 (879.04 KB)\n",
      "Trainable params: 225034 (879.04 KB)\n",
      "Non-trainable params: 0 (0.00 Byte)\n",
      "_________________________________________________________________\n",
      "None\n"
     ]
    }
   ],
   "source": [
    "model = keras.Sequential(\n",
    "    [\n",
    "        keras.Input(shape=(32,32,3)),\n",
    "        # Using 'valid' will reduce number of pixels during convulation\n",
    "        layers.Conv2D(32, 3, padding='valid', activation='relu', name='conv1'),\n",
    "        # Taking max value\n",
    "        layers.MaxPooling2D(pool_size=(2,2), name='max_pooling1'),\n",
    "\n",
    "        layers.Conv2D(64, 3, activation='relu', name='conv2'),\n",
    "        layers.MaxPooling2D(),\n",
    "        layers.Conv2D(128, 3, activation='relu', name='conv3'),\n",
    "        # Create 1-dimensional list\n",
    "        layers.Flatten(),\n",
    "        layers.Dense(64, activation='relu'),\n",
    "        layers.Dense(10)\n",
    "    ]\n",
    ")\n",
    "print(model.summary())"
   ],
   "metadata": {
    "collapsed": false,
    "ExecuteTime": {
     "end_time": "2023-09-23T10:07:38.577472900Z",
     "start_time": "2023-09-23T10:07:38.518244700Z"
    }
   }
  },
  {
   "cell_type": "code",
   "execution_count": 16,
   "outputs": [],
   "source": [
    "def my_model():\n",
    "    inputs = keras.Input(shape=(32,32,3))\n",
    "    x = layers.Conv2D(32,3)(inputs)\n",
    "    x = layers.BatchNormalization()(x)\n",
    "    x = keras.activations.relu(x)\n",
    "    x = layers.MaxPooling2D()(x)\n",
    "    x = layers.Conv2D(64, 5, padding='same')(x)\n",
    "    x = layers.BatchNormalization()(x)\n",
    "    x = keras.activations.relu(x)\n",
    "    x = layers.Conv2D(128, 3)(x)\n",
    "    x = layers.BatchNormalization()(x)\n",
    "    x = keras.activations.relu(x)\n",
    "    x = layers.Flatten()(x)\n",
    "    x = layers.Dense(64, activation='relu')(x)\n",
    "    outputs = layers.Dense(10)(x)\n",
    "    model = keras.Model(inputs=inputs, outputs=outputs)\n",
    "    return model\n",
    "\n",
    "model = my_model()\n"
   ],
   "metadata": {
    "collapsed": false,
    "ExecuteTime": {
     "end_time": "2023-09-23T10:25:20.559345500Z",
     "start_time": "2023-09-23T10:25:20.485379Z"
    }
   }
  },
  {
   "cell_type": "code",
   "execution_count": 17,
   "outputs": [
    {
     "name": "stdout",
     "output_type": "stream",
     "text": [
      "Epoch 1/10\n",
      "782/782 [==============================] - 130s 165ms/step - loss: 1.6783 - accuracy: 0.3933\n",
      "Epoch 2/10\n",
      "782/782 [==============================] - 126s 161ms/step - loss: 1.3885 - accuracy: 0.5050\n",
      "Epoch 3/10\n",
      "782/782 [==============================] - 142s 181ms/step - loss: 1.2789 - accuracy: 0.5463\n",
      "Epoch 4/10\n",
      "782/782 [==============================] - 136s 173ms/step - loss: 1.1921 - accuracy: 0.5778\n",
      "Epoch 5/10\n",
      "782/782 [==============================] - 151s 193ms/step - loss: 1.1105 - accuracy: 0.6067\n",
      "Epoch 6/10\n",
      "782/782 [==============================] - 126s 161ms/step - loss: 1.0569 - accuracy: 0.6299\n",
      "Epoch 7/10\n",
      "782/782 [==============================] - 124s 158ms/step - loss: 0.9875 - accuracy: 0.6542\n",
      "Epoch 8/10\n",
      "782/782 [==============================] - 125s 160ms/step - loss: 0.9381 - accuracy: 0.6708\n",
      "Epoch 9/10\n",
      "782/782 [==============================] - 123s 157ms/step - loss: 0.8915 - accuracy: 0.6889\n",
      "Epoch 10/10\n",
      "782/782 [==============================] - 125s 159ms/step - loss: 0.8496 - accuracy: 0.7021\n",
      "157/157 [==============================] - 7s 43ms/step - loss: 1383240.3750 - accuracy: 0.1011\n"
     ]
    },
    {
     "data": {
      "text/plain": "[1383240.375, 0.10109999775886536]"
     },
     "execution_count": 17,
     "metadata": {},
     "output_type": "execute_result"
    }
   ],
   "source": [
    "model.compile(\n",
    "    loss=keras.losses.SparseCategoricalCrossentropy(from_logits=True),\n",
    "    optimizer=keras.optimizers.Adam(learning_rate = 3e-4),\n",
    "    metrics=[\"accuracy\"]\n",
    ")\n",
    "\n",
    "model.fit(x_train, y_train, batch_size=64, epochs=10)\n",
    "model.evaluate(x_test, y_test, batch_size=64)"
   ],
   "metadata": {
    "collapsed": false,
    "ExecuteTime": {
     "end_time": "2023-09-23T10:47:18.960385200Z",
     "start_time": "2023-09-23T10:25:25.225135900Z"
    }
   }
  }
 ],
 "metadata": {
  "kernelspec": {
   "display_name": "Python 3",
   "language": "python",
   "name": "python3"
  },
  "language_info": {
   "codemirror_mode": {
    "name": "ipython",
    "version": 2
   },
   "file_extension": ".py",
   "mimetype": "text/x-python",
   "name": "python",
   "nbconvert_exporter": "python",
   "pygments_lexer": "ipython2",
   "version": "2.7.6"
  }
 },
 "nbformat": 4,
 "nbformat_minor": 0
}
