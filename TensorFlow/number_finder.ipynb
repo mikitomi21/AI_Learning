{
 "cells": [
  {
   "cell_type": "code",
   "execution_count": 5,
   "metadata": {
    "collapsed": true,
    "ExecuteTime": {
     "end_time": "2023-09-22T18:21:16.487491400Z",
     "start_time": "2023-09-22T18:21:16.476868100Z"
    }
   },
   "outputs": [],
   "source": [
    "import tensorflow as tf\n",
    "from tensorflow import keras\n",
    "from tensorflow.keras import layers\n",
    "from tensorflow.keras.datasets import mnist"
   ]
  },
  {
   "cell_type": "code",
   "execution_count": 31,
   "outputs": [
    {
     "name": "stdout",
     "output_type": "stream",
     "text": [
      "(60000, 784)\n"
     ]
    }
   ],
   "source": [
    "(x_train, y_train), (x_test, y_test) = mnist.load_data()\n",
    "x_train = x_train.reshape(-1, x_train.shape[1]*x_train.shape[2]).astype(\"float32\") / 255.0\n",
    "x_test = x_test.reshape(-1, x_test.shape[1]*x_test.shape[2]).astype(\"float32\") / 255.0\n",
    "print(x_train.shape)"
   ],
   "metadata": {
    "collapsed": false,
    "ExecuteTime": {
     "end_time": "2023-09-22T18:29:48.036260600Z",
     "start_time": "2023-09-22T18:29:47.664436400Z"
    }
   }
  },
  {
   "cell_type": "raw",
   "source": [
    "# Sequential API from keras\n",
    "    Model for one input tensor and one output tensor\n",
    "    Not flexible"
   ],
   "metadata": {
    "collapsed": false
   }
  },
  {
   "cell_type": "code",
   "execution_count": 32,
   "outputs": [
    {
     "name": "stdout",
     "output_type": "stream",
     "text": [
      "Epoch 1/5\n",
      "1875/1875 - 15s - loss: 0.1876 - accuracy: 0.9425 - 15s/epoch - 8ms/step\n",
      "Epoch 2/5\n",
      "1875/1875 - 17s - loss: 0.0802 - accuracy: 0.9753 - 17s/epoch - 9ms/step\n",
      "Epoch 3/5\n",
      "1875/1875 - 16s - loss: 0.0556 - accuracy: 0.9826 - 16s/epoch - 8ms/step\n",
      "Epoch 4/5\n",
      "1875/1875 - 20s - loss: 0.0407 - accuracy: 0.9869 - 20s/epoch - 11ms/step\n",
      "Epoch 5/5\n",
      "1875/1875 - 17s - loss: 0.0339 - accuracy: 0.9892 - 17s/epoch - 9ms/step\n",
      "313/313 - 1s - loss: 0.0740 - accuracy: 0.9793 - 806ms/epoch - 3ms/step\n"
     ]
    },
    {
     "data": {
      "text/plain": "[0.07399244606494904, 0.9793000221252441]"
     },
     "execution_count": 32,
     "metadata": {},
     "output_type": "execute_result"
    }
   ],
   "source": [
    "model = keras.Sequential(\n",
    "    [\n",
    "        layers.Dense(512, activation='relu'),\n",
    "        layers.Dense(256, activation='relu'),\n",
    "        layers.Dense(10),\n",
    "    ]\n",
    ")\n",
    "\n",
    "model.compile(\n",
    "    loss=keras.losses.SparseCategoricalCrossentropy(from_logits=True),\n",
    "    optimizer=keras.optimizers.Adam(learning_rate=0.001),\n",
    "    metrics=[\"accuracy\"],\n",
    ")\n",
    "\n",
    "model.fit(x_train, y_train, batch_size=32, epochs=5, verbose=2)\n",
    "model.evaluate(x_test, y_test, batch_size=32, verbose=2)"
   ],
   "metadata": {
    "collapsed": false,
    "ExecuteTime": {
     "end_time": "2023-09-22T18:49:32.202204800Z",
     "start_time": "2023-09-22T18:48:07.012928300Z"
    }
   }
  }
 ],
 "metadata": {
  "kernelspec": {
   "display_name": "Python 3",
   "language": "python",
   "name": "python3"
  },
  "language_info": {
   "codemirror_mode": {
    "name": "ipython",
    "version": 2
   },
   "file_extension": ".py",
   "mimetype": "text/x-python",
   "name": "python",
   "nbconvert_exporter": "python",
   "pygments_lexer": "ipython2",
   "version": "2.7.6"
  }
 },
 "nbformat": 4,
 "nbformat_minor": 0
}
