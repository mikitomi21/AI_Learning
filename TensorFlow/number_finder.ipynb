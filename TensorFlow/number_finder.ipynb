{
 "cells": [
  {
   "cell_type": "code",
   "execution_count": 5,
   "metadata": {
    "collapsed": true,
    "ExecuteTime": {
     "end_time": "2023-09-22T18:21:16.487491400Z",
     "start_time": "2023-09-22T18:21:16.476868100Z"
    }
   },
   "outputs": [],
   "source": [
    "import tensorflow as tf\n",
    "from tensorflow import keras\n",
    "from tensorflow.keras import layers\n",
    "from tensorflow.keras.datasets import mnist"
   ]
  },
  {
   "cell_type": "code",
   "execution_count": 31,
   "outputs": [
    {
     "name": "stdout",
     "output_type": "stream",
     "text": [
      "(60000, 784)\n"
     ]
    }
   ],
   "source": [
    "(x_train, y_train), (x_test, y_test) = mnist.load_data()\n",
    "x_train = x_train.reshape(-1, x_train.shape[1]*x_train.shape[2]).astype(\"float32\") / 255.0\n",
    "x_test = x_test.reshape(-1, x_test.shape[1]*x_test.shape[2]).astype(\"float32\") / 255.0\n",
    "print(x_train.shape)"
   ],
   "metadata": {
    "collapsed": false,
    "ExecuteTime": {
     "end_time": "2023-09-22T18:29:48.036260600Z",
     "start_time": "2023-09-22T18:29:47.664436400Z"
    }
   }
  },
  {
   "cell_type": "raw",
   "source": [
    "# Sequential API\n",
    "# EXAMPLE 1\n",
    "    Model for one input tensor and one output tensor\n",
    "    Not flexible"
   ],
   "metadata": {
    "collapsed": false
   }
  },
  {
   "cell_type": "code",
   "execution_count": 36,
   "outputs": [],
   "source": [
    "model = keras.Sequential(\n",
    "    [\n",
    "        keras.Input(shape=(28*28)),\n",
    "        layers.Dense(512, activation='relu'),\n",
    "        layers.Dense(256, activation='relu'),\n",
    "        layers.Dense(10),\n",
    "    ]\n",
    ")\n",
    "# print(model.summary()) # It's work only if the keras.Input is set"
   ],
   "metadata": {
    "collapsed": false,
    "ExecuteTime": {
     "end_time": "2023-09-22T19:01:11.738175500Z",
     "start_time": "2023-09-22T19:01:11.708156400Z"
    }
   }
  },
  {
   "cell_type": "raw",
   "source": [
    "# EXAMPLE 2\n",
    "    Better option for debuging and checking summary of the model"
   ],
   "metadata": {
    "collapsed": false
   }
  },
  {
   "cell_type": "code",
   "execution_count": 46,
   "outputs": [
    {
     "name": "stdout",
     "output_type": "stream",
     "text": [
      "Model: \"sequential_7\"\n",
      "_________________________________________________________________\n",
      " Layer (type)                Output Shape              Param #   \n",
      "=================================================================\n",
      " first_layer (Dense)         (None, 512)               401920    \n",
      "                                                                 \n",
      "=================================================================\n",
      "Total params: 401920 (1.53 MB)\n",
      "Trainable params: 401920 (1.53 MB)\n",
      "Non-trainable params: 0 (0.00 Byte)\n",
      "_________________________________________________________________\n",
      "None\n"
     ]
    }
   ],
   "source": [
    "model = keras.Sequential()\n",
    "model.add(keras.Input(shape=28 * 28))\n",
    "model.add(layers.Dense(512, activation='relu', name='first_layer'))\n",
    "# print(model.summary())\n",
    "model.add(layers.Dense(256, activation='relu'))\n",
    "model.add(layers.Dense(10))"
   ],
   "metadata": {
    "collapsed": false,
    "ExecuteTime": {
     "end_time": "2023-09-22T19:11:17.458037700Z",
     "start_time": "2023-09-22T19:11:17.411635200Z"
    }
   }
  },
  {
   "cell_type": "code",
   "execution_count": null,
   "outputs": [],
   "source": [
    "model.compile(\n",
    "    loss=keras.losses.SparseCategoricalCrossentropy(from_logits=True),\n",
    "    optimizer=keras.optimizers.Adam(learning_rate=0.001),\n",
    "    metrics=[\"accuracy\"],\n",
    ")\n",
    "model.fit(x_train, y_train, batch_size=32, epochs=5, verbose=2)\n",
    "model.evaluate(x_test, y_test, batch_size=32, verbose=2)"
   ],
   "metadata": {
    "collapsed": false
   }
  },
  {
   "cell_type": "raw",
   "source": [
    "# Functional API\n",
    "    A bit more flexible\n",
    "    Can handle multiple inputs and outputs"
   ],
   "metadata": {
    "collapsed": false
   }
  },
  {
   "cell_type": "code",
   "execution_count": 41,
   "outputs": [],
   "source": [
    "inputs = keras.Input(shape=(784))\n",
    "x = layers.Dense(512, activation='relu')(inputs)\n",
    "x = layers.Dense(256, activation='relu')(x)\n",
    "outputs = layers.Dense(10, activation='softmax')(x)\n",
    "\n",
    "model = keras.Model(inputs=inputs, outputs=outputs)"
   ],
   "metadata": {
    "collapsed": false,
    "ExecuteTime": {
     "end_time": "2023-09-22T19:09:15.677561900Z",
     "start_time": "2023-09-22T19:09:15.648589400Z"
    }
   }
  },
  {
   "cell_type": "code",
   "execution_count": 42,
   "outputs": [
    {
     "name": "stdout",
     "output_type": "stream",
     "text": [
      "Epoch 1/5\n",
      "1875/1875 - 15s - loss: 0.1842 - accuracy: 0.9437 - 15s/epoch - 8ms/step\n",
      "Epoch 2/5\n",
      "1875/1875 - 16s - loss: 0.0794 - accuracy: 0.9750 - 16s/epoch - 9ms/step\n",
      "Epoch 3/5\n",
      "1875/1875 - 16s - loss: 0.0549 - accuracy: 0.9824 - 16s/epoch - 8ms/step\n",
      "Epoch 4/5\n",
      "1875/1875 - 16s - loss: 0.0427 - accuracy: 0.9860 - 16s/epoch - 9ms/step\n",
      "Epoch 5/5\n",
      "1875/1875 - 15s - loss: 0.0324 - accuracy: 0.9894 - 15s/epoch - 8ms/step\n",
      "313/313 - 1s - loss: 0.0728 - accuracy: 0.9820 - 681ms/epoch - 2ms/step\n"
     ]
    },
    {
     "data": {
      "text/plain": "[0.07280047237873077, 0.9819999933242798]"
     },
     "execution_count": 42,
     "metadata": {},
     "output_type": "execute_result"
    }
   ],
   "source": [
    "model.compile(\n",
    "    loss=keras.losses.SparseCategoricalCrossentropy(), # we set activation on the output layer and dont need to use from_logits parameter\n",
    "    optimizer=keras.optimizers.Adam(learning_rate=0.001),\n",
    "    metrics=[\"accuracy\"],\n",
    ")\n",
    "model.fit(x_train, y_train, batch_size=32, epochs=5, verbose=2)\n",
    "model.evaluate(x_test, y_test, batch_size=32, verbose=2)"
   ],
   "metadata": {
    "collapsed": false,
    "ExecuteTime": {
     "end_time": "2023-09-22T19:10:36.289056500Z",
     "start_time": "2023-09-22T19:09:17.356600600Z"
    }
   }
  }
 ],
 "metadata": {
  "kernelspec": {
   "display_name": "Python 3",
   "language": "python",
   "name": "python3"
  },
  "language_info": {
   "codemirror_mode": {
    "name": "ipython",
    "version": 2
   },
   "file_extension": ".py",
   "mimetype": "text/x-python",
   "name": "python",
   "nbconvert_exporter": "python",
   "pygments_lexer": "ipython2",
   "version": "2.7.6"
  }
 },
 "nbformat": 4,
 "nbformat_minor": 0
}
